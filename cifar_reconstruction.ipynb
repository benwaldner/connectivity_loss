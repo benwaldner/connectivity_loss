{
 "cells": [
  {
   "cell_type": "code",
   "execution_count": null,
   "metadata": {},
   "outputs": [],
   "source": [
    "import numpy as np\n",
    "import torch\n",
    "import torchvision\n",
    "from torchvision.datasets import CIFAR10, CIFAR100\n",
    "\n",
    "from connectivity_representation_learning import *\n",
    "\n",
    "import matplotlib.pyplot as plt\n",
    "import seaborn as sns\n",
    "sns.set()"
   ]
  },
  {
   "cell_type": "markdown",
   "metadata": {},
   "source": [
    "### Load CIFAR-10 data"
   ]
  },
  {
   "cell_type": "code",
   "execution_count": null,
   "metadata": {},
   "outputs": [],
   "source": [
    "def imshow(img, ax=None):\n",
    "    npimg = img.cpu().data.numpy()\n",
    "    if not ax:\n",
    "        plt.imshow(np.transpose(npimg, (1, 2, 0)))\n",
    "    else:\n",
    "        ax.imshow(np.transpose(npimg, (1, 2, 0)))"
   ]
  },
  {
   "cell_type": "code",
   "execution_count": null,
   "metadata": {},
   "outputs": [],
   "source": [
    "cifar_transform = torchvision.transforms.Compose([\n",
    "    torchvision.transforms.ToTensor()])\n",
    "    \n",
    "cifar = CIFAR10(\n",
    "    root='../datasets',\n",
    "    train=True,\n",
    "    transform=cifar_transform,\n",
    "    download=False)"
   ]
  },
  {
   "cell_type": "code",
   "execution_count": null,
   "metadata": {},
   "outputs": [],
   "source": [
    "# only select a subset to speed-up learning\n",
    "n = 1000\n",
    "loader = torch.utils.data.DataLoader(cifar, batch_size=n, shuffle=False)\n",
    "dataiter = iter(loader)\n",
    "data, _ = dataiter.next()"
   ]
  },
  {
   "cell_type": "markdown",
   "metadata": {},
   "source": [
    "### Model setup"
   ]
  },
  {
   "cell_type": "code",
   "execution_count": null,
   "metadata": {},
   "outputs": [],
   "source": [
    "config_layers = {\n",
    "    'type': 'conv2d',\n",
    "    'input_size': (32, 32),\n",
    "    'filters': [3, 16, 32, 64],\n",
    "    'emb_size': 160,\n",
    "}\n",
    "\n",
    "use_cuda = True\n",
    "eta = 2.0\n",
    "tol = 1e-4\n",
    "lr = 0.001\n",
    "batch_size = 10\n",
    "n_epochs = 10"
   ]
  },
  {
   "cell_type": "markdown",
   "metadata": {},
   "source": [
    "### Training"
   ]
  },
  {
   "cell_type": "code",
   "execution_count": null,
   "metadata": {},
   "outputs": [],
   "source": [
    "model_no_penalty = Model(config_layers, \n",
    "                         eta=eta,\n",
    "                         tol=tol,\n",
    "                         lr=lr,\n",
    "                         batch_size=batch_size,\n",
    "                         dim_batch=1,\n",
    "                         use_cuda=use_cuda,\n",
    "                         connectivity_penalty=0.0,\n",
    "                        )\n",
    "\n",
    "model_no_penalty.train(data, n_epochs*10)\n",
    "torch.save(model_no_penalty.state_dict(), 'cifar10_no_penalty.pt')\n",
    "\n",
    "model_penalty = Model(config_layers, \n",
    "                      eta=eta,\n",
    "                      tol=tol,\n",
    "                      lr=lr,\n",
    "                      batch_size=batch_size,\n",
    "                      dim_batch=1,\n",
    "                      use_cuda=use_cuda,\n",
    "                      connectivity_penalty=20.0,\n",
    "                     )\n",
    "\n",
    "model_penalty.train(data, n_epochs)\n",
    "torch.save(model_penalty.state_dict(), 'cifar10_penalty.pt')\n",
    "\n",
    "model_penalty_branches = Model(config_layers, \n",
    "                               eta=eta,\n",
    "                               tol=tol,\n",
    "                               lr=lr,      \n",
    "                               batch_size=batch_size,\n",
    "                               dim_batch=16,\n",
    "                               use_cuda=use_cuda,\n",
    "                               connectivity_penalty=20.0,\n",
    "                              )\n",
    "\n",
    "model_penalty_branches.train(data, n_epochs)\n",
    "torch.save(model_penalty_branches.state_dict(), 'cifar10_penalty_branches.pt')"
   ]
  },
  {
   "cell_type": "code",
   "execution_count": null,
   "metadata": {},
   "outputs": [],
   "source": [
    "# model_no_penalty.load_state_dict(torch.load('cifar10_no_penalty.pt'))\n",
    "# model_penalty.load_state_dict(torch.load('cifar10_penalty.pt'))\n",
    "# model_penalty_branches.load_state_dict(torch.load('cifar10_penalty_branches.pt'))\n",
    "\n",
    "models = [model_no_penalty, model_penalty, model_penalty_branches]"
   ]
  },
  {
   "cell_type": "markdown",
   "metadata": {},
   "source": [
    "### Reconstruction of training images"
   ]
  },
  {
   "cell_type": "code",
   "execution_count": null,
   "metadata": {},
   "outputs": [],
   "source": [
    "fig, axess = plt.subplots(figsize=(12, 5), nrows=3, ncols=2)\n",
    "\n",
    "for i, axes in enumerate(axess):\n",
    "    images = data[:4]\n",
    "    model = models[i]\n",
    "\n",
    "    ax = axes[0]\n",
    "    imshow(torchvision.utils.make_grid(images), ax)\n",
    "\n",
    "    ax = axes[1]\n",
    "    images_reconstructed = model.autoencoder(images.to(model.device))\n",
    "    imshow(torchvision.utils.make_grid(images_reconstructed), ax)\n",
    "\n",
    "plt.tight_layout()\n",
    "plt.show()"
   ]
  },
  {
   "cell_type": "markdown",
   "metadata": {},
   "source": [
    "### Reconstruction of unseen images"
   ]
  },
  {
   "cell_type": "code",
   "execution_count": null,
   "metadata": {},
   "outputs": [],
   "source": [
    "loader = torch.utils.data.DataLoader(cifar, batch_size=4, shuffle=True)\n",
    "dataiter = iter(loader)\n",
    "images, _ = dataiter.next()\n",
    "\n",
    "fig, axess = plt.subplots(figsize=(12, 5), nrows=3, ncols=2)\n",
    "\n",
    "for i, axes in enumerate(axess):\n",
    "    images = data[:4]\n",
    "    model = models[i]\n",
    "\n",
    "    ax = axes[0]\n",
    "    imshow(torchvision.utils.make_grid(images), ax)\n",
    "\n",
    "    ax = axes[1]\n",
    "    images_reconstructed = model.autoencoder(images.to(model.device))\n",
    "    imshow(torchvision.utils.make_grid(images_reconstructed), ax)\n",
    "\n",
    "plt.tight_layout()\n",
    "plt.show()"
   ]
  },
  {
   "cell_type": "code",
   "execution_count": null,
   "metadata": {},
   "outputs": [],
   "source": []
  }
 ],
 "metadata": {
  "kernelspec": {
   "display_name": "Python 3",
   "language": "python",
   "name": "python3"
  },
  "language_info": {
   "codemirror_mode": {
    "name": "ipython",
    "version": 3
   },
   "file_extension": ".py",
   "mimetype": "text/x-python",
   "name": "python",
   "nbconvert_exporter": "python",
   "pygments_lexer": "ipython3",
   "version": "3.7.4"
  }
 },
 "nbformat": 4,
 "nbformat_minor": 2
}
